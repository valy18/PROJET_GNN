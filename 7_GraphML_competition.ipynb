{
 "cells": [
  {
   "cell_type": "markdown",
   "metadata": {},
   "source": [
    "## Competition \n",
    "\n",
    "Since you are now a new expert on GNNs, let's compete. We created on Kaggle a private leaderboard to test your skills on another dataset encoding molecular compounds : [Kaggle Competition](https://www.kaggle.com/competitions/graph-machine-learning-in-yamoussoukro/)\n",
    "\n",
    "Here's your invitation link : https://www.kaggle.com/t/0ea1ce3977c54b3eb0d6d1983fa600a7\n",
    "\n",
    "It's still a binary classification task, but now you only have access to the graph of the test set, but not their properties to predict ! \n",
    "\n",
    "To compete, you will need to learn a model using the `train_dataset` provided in `train_dataset.pt` file. The submission file for Kaggle competition can be obtained using the `generate_pred_for_kaggle` and `generate_kaggle_file` functions provided in `kaggle.py` file. \n",
    "\n",
    "The train dataset is composed of 2168 molecules, where each node is encoded by 14 binary values corresponding to a one hot encoding of the corresponding atom. Test set is composed of 2169 molecules and encoded in the same way as the train set, except the `y` value.\n",
    "\n",
    "You are allowed to use any model you want, GNN or other, but you are not allowed to use the test set to train your model.\n",
    "\n",
    "Do your best ! "
   ]
  },
  {
   "cell_type": "markdown",
   "metadata": {},
   "source": []
  },
  {
   "cell_type": "code",
   "execution_count": 7,
   "metadata": {},
   "outputs": [
    {
     "name": "stdout",
     "output_type": "stream",
     "text": [
      "Collecting torch\n",
      "  Using cached torch-2.5.1-cp312-cp312-win_amd64.whl.metadata (28 kB)\n",
      "Collecting torchvision\n",
      "  Downloading torchvision-0.20.1-cp312-cp312-win_amd64.whl.metadata (6.2 kB)\n",
      "Collecting torchaudio\n",
      "  Downloading torchaudio-2.5.1-cp312-cp312-win_amd64.whl.metadata (6.5 kB)\n",
      "Collecting filelock (from torch)\n",
      "  Using cached filelock-3.16.1-py3-none-any.whl.metadata (2.9 kB)\n",
      "Requirement already satisfied: typing-extensions>=4.8.0 in c:\\users\\coulibalypekanrikadi\\cpkv\\ecole\\inp\\m2\\moi\\gnn\\projet_gnn\\.venv\\lib\\site-packages (from torch) (4.12.2)\n",
      "Collecting networkx (from torch)\n",
      "  Using cached networkx-3.4.2-py3-none-any.whl.metadata (6.3 kB)\n",
      "Requirement already satisfied: jinja2 in c:\\users\\coulibalypekanrikadi\\cpkv\\ecole\\inp\\m2\\moi\\gnn\\projet_gnn\\.venv\\lib\\site-packages (from torch) (3.1.4)\n",
      "Requirement already satisfied: fsspec in c:\\users\\coulibalypekanrikadi\\cpkv\\ecole\\inp\\m2\\moi\\gnn\\projet_gnn\\.venv\\lib\\site-packages (from torch) (2024.10.0)\n",
      "Collecting setuptools (from torch)\n",
      "  Using cached setuptools-75.6.0-py3-none-any.whl.metadata (6.7 kB)\n",
      "Requirement already satisfied: sympy==1.13.1 in c:\\users\\coulibalypekanrikadi\\cpkv\\ecole\\inp\\m2\\moi\\gnn\\projet_gnn\\.venv\\lib\\site-packages (from torch) (1.13.1)\n",
      "Requirement already satisfied: mpmath<1.4,>=1.1.0 in c:\\users\\coulibalypekanrikadi\\cpkv\\ecole\\inp\\m2\\moi\\gnn\\projet_gnn\\.venv\\lib\\site-packages (from sympy==1.13.1->torch) (1.3.0)\n",
      "Requirement already satisfied: numpy in c:\\users\\coulibalypekanrikadi\\cpkv\\ecole\\inp\\m2\\moi\\gnn\\projet_gnn\\.venv\\lib\\site-packages (from torchvision) (2.2.0)\n",
      "Collecting pillow!=8.3.*,>=5.3.0 (from torchvision)\n",
      "  Downloading pillow-11.0.0-cp312-cp312-win_amd64.whl.metadata (9.3 kB)\n",
      "Requirement already satisfied: MarkupSafe>=2.0 in c:\\users\\coulibalypekanrikadi\\cpkv\\ecole\\inp\\m2\\moi\\gnn\\projet_gnn\\.venv\\lib\\site-packages (from jinja2->torch) (3.0.2)\n",
      "Using cached torch-2.5.1-cp312-cp312-win_amd64.whl (203.0 MB)\n",
      "Downloading torchvision-0.20.1-cp312-cp312-win_amd64.whl (1.6 MB)\n",
      "   ---------------------------------------- 0.0/1.6 MB ? eta -:--:--\n",
      "   ---------------------------------------- 0.0/1.6 MB ? eta -:--:--\n",
      "   ---------------------------------------- 0.0/1.6 MB ? eta -:--:--\n",
      "   ---------------------------------------- 0.0/1.6 MB ? eta -:--:--\n",
      "   ---------------------------------------- 0.0/1.6 MB ? eta -:--:--\n",
      "   ------ --------------------------------- 0.3/1.6 MB ? eta -:--:--\n",
      "   ------ --------------------------------- 0.3/1.6 MB ? eta -:--:--\n",
      "   ------ --------------------------------- 0.3/1.6 MB ? eta -:--:--\n",
      "   ------------- -------------------------- 0.5/1.6 MB 390.1 kB/s eta 0:00:03\n",
      "   ------------- -------------------------- 0.5/1.6 MB 390.1 kB/s eta 0:00:03\n",
      "   -------------------- ------------------- 0.8/1.6 MB 508.0 kB/s eta 0:00:02\n",
      "   -------------------------- ------------- 1.0/1.6 MB 572.0 kB/s eta 0:00:01\n",
      "   -------------------------- ------------- 1.0/1.6 MB 572.0 kB/s eta 0:00:01\n",
      "   --------------------------------- ------ 1.3/1.6 MB 588.4 kB/s eta 0:00:01\n",
      "   --------------------------------- ------ 1.3/1.6 MB 588.4 kB/s eta 0:00:01\n",
      "   ---------------------------------------- 1.6/1.6 MB 620.9 kB/s eta 0:00:00\n",
      "Downloading torchaudio-2.5.1-cp312-cp312-win_amd64.whl (2.4 MB)\n",
      "   ---------------------------------------- 0.0/2.4 MB ? eta -:--:--\n",
      "   ---------------------------------------- 0.0/2.4 MB ? eta -:--:--\n",
      "   ---- ----------------------------------- 0.3/2.4 MB ? eta -:--:--\n",
      "   ---- ----------------------------------- 0.3/2.4 MB ? eta -:--:--\n",
      "   -------- ------------------------------- 0.5/2.4 MB 670.4 kB/s eta 0:00:03\n",
      "   ------------ --------------------------- 0.8/2.4 MB 762.0 kB/s eta 0:00:03\n",
      "   ------------ --------------------------- 0.8/2.4 MB 762.0 kB/s eta 0:00:03\n",
      "   ----------------- ---------------------- 1.0/2.4 MB 786.4 kB/s eta 0:00:02\n",
      "   --------------------- ------------------ 1.3/2.4 MB 808.5 kB/s eta 0:00:02\n",
      "   ------------------------- -------------- 1.6/2.4 MB 822.3 kB/s eta 0:00:02\n",
      "   ------------------------- -------------- 1.6/2.4 MB 822.3 kB/s eta 0:00:02\n",
      "   ------------------------------ --------- 1.8/2.4 MB 811.6 kB/s eta 0:00:01\n",
      "   ---------------------------------- ----- 2.1/2.4 MB 821.4 kB/s eta 0:00:01\n",
      "   ---------------------------------- ----- 2.1/2.4 MB 821.4 kB/s eta 0:00:01\n",
      "   -------------------------------------- - 2.4/2.4 MB 838.9 kB/s eta 0:00:01\n",
      "   ---------------------------------------- 2.4/2.4 MB 795.0 kB/s eta 0:00:00\n",
      "Downloading pillow-11.0.0-cp312-cp312-win_amd64.whl (2.6 MB)\n",
      "   ---------------------------------------- 0.0/2.6 MB ? eta -:--:--\n",
      "   ---------------------------------------- 0.0/2.6 MB ? eta -:--:--\n",
      "   ---- ----------------------------------- 0.3/2.6 MB ? eta -:--:--\n",
      "   -------- ------------------------------- 0.5/2.6 MB 929.6 kB/s eta 0:00:03\n",
      "   ------------ --------------------------- 0.8/2.6 MB 985.5 kB/s eta 0:00:02\n",
      "   ------------ --------------------------- 0.8/2.6 MB 985.5 kB/s eta 0:00:02\n",
      "   ---------------- ----------------------- 1.0/2.6 MB 986.7 kB/s eta 0:00:02\n",
      "   -------------------- ------------------- 1.3/2.6 MB 906.3 kB/s eta 0:00:02\n",
      "   ------------------------ --------------- 1.6/2.6 MB 931.6 kB/s eta 0:00:02\n",
      "   ------------------------ --------------- 1.6/2.6 MB 931.6 kB/s eta 0:00:02\n",
      "   ---------------------------- ----------- 1.8/2.6 MB 949.2 kB/s eta 0:00:01\n",
      "   -------------------------------- ------- 2.1/2.6 MB 970.4 kB/s eta 0:00:01\n",
      "   ---------------------------------------- 2.6/2.6 MB 1.0 MB/s eta 0:00:00\n",
      "Using cached filelock-3.16.1-py3-none-any.whl (16 kB)\n",
      "Using cached networkx-3.4.2-py3-none-any.whl (1.7 MB)\n",
      "Using cached setuptools-75.6.0-py3-none-any.whl (1.2 MB)\n",
      "Installing collected packages: setuptools, pillow, networkx, filelock, torch, torchvision, torchaudio\n",
      "Successfully installed filelock-3.16.1 networkx-3.4.2 pillow-11.0.0 setuptools-75.6.0 torch-2.5.1 torchaudio-2.5.1 torchvision-0.20.1\n"
     ]
    }
   ],
   "source": [
    "# Install torch package\n",
    "!pip install torch torchvision torchaudio\n",
    "\n"
   ]
  },
  {
   "cell_type": "code",
   "execution_count": 8,
   "metadata": {},
   "outputs": [
    {
     "name": "stderr",
     "output_type": "stream",
     "text": [
      "C:\\Users\\COULIBALYPEKANRIKADI\\AppData\\Local\\Temp\\ipykernel_13220\\696596222.py:5: FutureWarning: You are using `torch.load` with `weights_only=False` (the current default value), which uses the default pickle module implicitly. It is possible to construct malicious pickle data which will execute arbitrary code during unpickling (See https://github.com/pytorch/pytorch/blob/main/SECURITY.md#untrusted-models for more details). In a future release, the default value for `weights_only` will be flipped to `True`. This limits the functions that could be executed during unpickling. Arbitrary objects will no longer be allowed to be loaded via this mode unless they are explicitly allowlisted by the user via `torch.serialization.add_safe_globals`. We recommend you start setting `weights_only=True` for any use case where you don't have full control of the loaded file. Please open an issue on GitHub for any issues related to this experimental feature.\n",
      "  train_dataset = torch.load(\"./data/train_dataset.pt\")\n",
      "C:\\Users\\COULIBALYPEKANRIKADI\\AppData\\Local\\Temp\\ipykernel_13220\\696596222.py:6: FutureWarning: You are using `torch.load` with `weights_only=False` (the current default value), which uses the default pickle module implicitly. It is possible to construct malicious pickle data which will execute arbitrary code during unpickling (See https://github.com/pytorch/pytorch/blob/main/SECURITY.md#untrusted-models for more details). In a future release, the default value for `weights_only` will be flipped to `True`. This limits the functions that could be executed during unpickling. Arbitrary objects will no longer be allowed to be loaded via this mode unless they are explicitly allowlisted by the user via `torch.serialization.add_safe_globals`. We recommend you start setting `weights_only=True` for any use case where you don't have full control of the loaded file. Please open an issue on GitHub for any issues related to this experimental feature.\n",
      "  test_dataset = torch.load(\"./data/test_dataset.pt\")\n"
     ]
    }
   ],
   "source": [
    "import torch \n",
    "\n",
    "# Load the data\n",
    "\n",
    "train_dataset = torch.load(\"./data/train_dataset.pt\")\n",
    "test_dataset = torch.load(\"./data/test_dataset.pt\")"
   ]
  },
  {
   "cell_type": "code",
   "execution_count": 9,
   "metadata": {},
   "outputs": [],
   "source": [
    "from torch_geometric.loader import DataLoader\n",
    "\n",
    "train_loader = DataLoader(train_dataset, batch_size=64, shuffle=True)\n"
   ]
  },
  {
   "cell_type": "code",
   "execution_count": 10,
   "metadata": {},
   "outputs": [
    {
     "name": "stderr",
     "output_type": "stream",
     "text": [
      "100%|██████████| 100/100 [01:39<00:00,  1.00it/s]\n"
     ]
    }
   ],
   "source": [
    "from gnns import FirstGNN\n",
    "from gnns import learn_and_perf\n",
    "\n",
    "model = FirstGNN()\n",
    "\n",
    "acc_train, acc_test, losses  = learn_and_perf(model, train_loader, None, nb_epochs=100)\n"
   ]
  },
  {
   "cell_type": "code",
   "execution_count": 11,
   "metadata": {},
   "outputs": [
    {
     "data": {
      "text/plain": [
       "<matplotlib.legend.Legend at 0x1bd3c8ce660>"
      ]
     },
     "execution_count": 11,
     "metadata": {},
     "output_type": "execute_result"
    },
    {
     "data": {
      "image/png": "[encoded data removed]",
      "text/plain": [
       "<Figure size 640x480 with 1 Axes>"
      ]
     },
     "metadata": {},
     "output_type": "display_data"
    }
   ],
   "source": [
    "import matplotlib.pyplot as plt\n",
    "\n",
    "plt.plot(acc_train, label=\"train\")\n",
    "plt.legend()"
   ]
  },
  {
   "cell_type": "code",
   "execution_count": 12,
   "metadata": {},
   "outputs": [],
   "source": [
    "from kaggle import generate_pred_for_kaggle, generate_kaggle_file\n",
    "test_loader = DataLoader(test_dataset, batch_size=64, shuffle=False)\n",
    "preds = generate_pred_for_kaggle(model, test_loader)\n",
    "generate_kaggle_file(preds, \"./kaggle.csv\")\n"
   ]
  },
  {
   "cell_type": "code",
   "execution_count": null,
   "metadata": {},
   "outputs": [],
   "source": []
  }
 ],
 "metadata": {
  "kernelspec": {
   "display_name": ".venv",
   "language": "python",
   "name": "python3"
  },
  "language_info": {
   "codemirror_mode": {
    "name": "ipython",
    "version": 3
   },
   "file_extension": ".py",
   "mimetype": "text/x-python",
   "name": "python",
   "nbconvert_exporter": "python",
   "pygments_lexer": "ipython3",
   "version": "3.12.6"
  }
 },
 "nbformat": 4,
 "nbformat_minor": 4
}
